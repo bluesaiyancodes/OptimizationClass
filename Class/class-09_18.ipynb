{
 "cells": [
  {
   "cell_type": "code",
   "execution_count": 1,
   "metadata": {},
   "outputs": [],
   "source": [
    "\n",
    "from scipy.optimize import LinearConstraint\n",
    "from scipy.optimize import Bounds\n",
    "from scipy.optimize import NonlinearConstraint\n",
    "\n",
    "from scipy.optimize import minimize\n",
    "import numpy as np"
   ]
  },
  {
   "cell_type": "code",
   "execution_count": 2,
   "metadata": {},
   "outputs": [
    {
     "data": {
      "text/plain": [
       "Bounds(array([-inf, -inf, -inf, -inf]), array([inf, inf, inf, inf]))"
      ]
     },
     "execution_count": 2,
     "metadata": {},
     "output_type": "execute_result"
    }
   ],
   "source": [
    "bounds = Bounds([-np.inf, -np.inf, -np.inf, -np.inf,], [np.inf, np.inf, np.inf, np.inf])\n",
    "bounds"
   ]
  },
  {
   "cell_type": "code",
   "execution_count": 3,
   "metadata": {},
   "outputs": [],
   "source": [
    "def obj_fn(x):\n",
    "    return x[0]**2+x[1]**2+2*x[3]**2-5*x[0]-5*x[1]-21*x[2]+7*x[3]"
   ]
  },
  {
   "cell_type": "code",
   "execution_count": 13,
   "metadata": {},
   "outputs": [],
   "source": [
    "def non_cons(x):\n",
    "    return [x[0]**2+x[1]**2+x[2]**2+x[3]**2+x[0]-x[1]+x[2]-x[3], x[0]**2+2*x[1]**2+x[2]**2+2**x[3]**2-x[0]-x[3],2*x[0]**2+x[1]**2+x[2]**2+2*x[3]**2-x[0]-x[1]-x[3]]\n",
    "\n",
    "non_linear_constraint = NonlinearConstraint(non_cons, [-np.inf, -np.inf, -np.inf], [8, 10, 5])"
   ]
  },
  {
   "cell_type": "code",
   "execution_count": 14,
   "metadata": {},
   "outputs": [],
   "source": [
    "x0 = np.array([1,1,1,1])"
   ]
  },
  {
   "cell_type": "code",
   "execution_count": 16,
   "metadata": {},
   "outputs": [
    {
     "name": "stdout",
     "output_type": "stream",
     "text": [
      "[ 0.46718021  0.85211919  2.24359282 -0.10211423]\n",
      " message: Optimization terminated successfully\n",
      " success: True\n",
      "  status: 0\n",
      "     fun: -53.46152667451676\n",
      "       x: [ 4.672e-01  8.521e-01  2.244e+00 -1.021e-01]\n",
      "     nit: 11\n",
      "     jac: [-4.066e+00 -3.296e+00 -2.100e+01  6.592e+00]\n",
      "    nfev: 59\n",
      "    njev: 11\n"
     ]
    }
   ],
   "source": [
    "res = minimize(obj_fn, x0, constraints=[non_linear_constraint], bounds=bounds)\n",
    "print(res.x)\n",
    "print(res)"
   ]
  },
  {
   "cell_type": "code",
   "execution_count": null,
   "metadata": {},
   "outputs": [],
   "source": []
  }
 ],
 "metadata": {
  "kernelspec": {
   "display_name": "optim",
   "language": "python",
   "name": "python3"
  },
  "language_info": {
   "codemirror_mode": {
    "name": "ipython",
    "version": 3
   },
   "file_extension": ".py",
   "mimetype": "text/x-python",
   "name": "python",
   "nbconvert_exporter": "python",
   "pygments_lexer": "ipython3",
   "version": "3.11.5"
  },
  "orig_nbformat": 4
 },
 "nbformat": 4,
 "nbformat_minor": 2
}
